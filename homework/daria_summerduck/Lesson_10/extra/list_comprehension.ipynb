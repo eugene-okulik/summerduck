{
 "cells": [
  {
   "cell_type": "code",
   "execution_count": 21,
   "metadata": {},
   "outputs": [],
   "source": [
    "PRICE_LIST = \"\"\"тетрадь 50р\n",
    "книга 200р\n",
    "ручка 100р\n",
    "карандаш 70р\n",
    "альбом 120р\n",
    "пенал 300р\n",
    "рюкзак 500р\"\"\"\n",
    "\n",
    "a = {\n",
    "    \"тетрадь\": 50,\n",
    "    \"книга\": 200,\n",
    "    \"ручка\": 100,\n",
    "    \"карандаш\": 70,\n",
    "    \"альбом\": 120,\n",
    "    \"пенал\": 300,\n",
    "    \"рюкзак\": 500,\n",
    "}\n",
    "\n",
    "# v1\n",
    "price_dict = {}\n",
    "items = PRICE_LIST.splitlines()\n",
    "for item in items:\n",
    "    item_name_and_price = item.split()\n",
    "    item_name = item_name_and_price[0]\n",
    "    item_price = item_name_and_price[1][:-1]\n",
    "    price_dict[item_name] = int(item_price)\n",
    "\n",
    "assert a == price_dict\n",
    "\n",
    "# v2\n",
    "for item in PRICE_LIST.splitlines():\n",
    "    price_dict[item.split()[0]] = int(item.split()[1][:-1])\n",
    "\n",
    "assert a == price_dict\n",
    "\n",
    "# v3\n",
    "price_dict = {\n",
    "    item.split()[0]: int(item.split()[1][:-1]) for item in PRICE_LIST.splitlines()\n",
    "}\n",
    "\n",
    "assert a == price_dict"
   ]
  }
 ],
 "metadata": {
  "kernelspec": {
   "display_name": "env",
   "language": "python",
   "name": "python3"
  },
  "language_info": {
   "codemirror_mode": {
    "name": "ipython",
    "version": 3
   },
   "file_extension": ".py",
   "mimetype": "text/x-python",
   "name": "python",
   "nbconvert_exporter": "python",
   "pygments_lexer": "ipython3",
   "version": "3.10.2"
  }
 },
 "nbformat": 4,
 "nbformat_minor": 2
}
